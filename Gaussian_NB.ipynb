{
 "cells": [
  {
   "cell_type": "code",
   "execution_count": 4,
   "id": "bce1c871-28c6-46d7-a24c-cb046466a56b",
   "metadata": {},
   "outputs": [
    {
     "name": "stdout",
     "output_type": "stream",
     "text": [
      "Bins before sorting: [2017    11.0\n",
      "2018     5.0\n",
      "2019     9.0\n",
      "dtype: float64, 2017    19237.3\n",
      "2018    20123.6\n",
      "2019    26603.5\n",
      "dtype: float64, 2017    38463.6\n",
      "2018    40242.2\n",
      "2019    53198.0\n",
      "dtype: float64, 2017    57689.9\n",
      "2018    60360.8\n",
      "2019    79792.5\n",
      "dtype: float64, 2017     76916.2\n",
      "2018     80479.4\n",
      "2019    106387.0\n",
      "dtype: float64, 2017     96142.5\n",
      "2018    100598.0\n",
      "2019    132981.5\n",
      "dtype: float64, 2017    115368.8\n",
      "2018    120716.6\n",
      "2019    159576.0\n",
      "dtype: float64, 2017    134595.1\n",
      "2018    140835.2\n",
      "2019    186170.5\n",
      "dtype: float64, 2017    153821.4\n",
      "2018    160953.8\n",
      "2019    212765.0\n",
      "dtype: float64, 2017    173047.7\n",
      "2018    181072.4\n",
      "2019    239359.5\n",
      "dtype: float64, 2017    192274.0\n",
      "2018    201191.0\n",
      "2019    265954.0\n",
      "dtype: float64]\n"
     ]
    },
    {
     "ename": "ValueError",
     "evalue": "The truth value of a Series is ambiguous. Use a.empty, a.bool(), a.item(), a.any() or a.all().",
     "output_type": "error",
     "traceback": [
      "\u001b[1;31m---------------------------------------------------------------------------\u001b[0m",
      "\u001b[1;31mValueError\u001b[0m                                Traceback (most recent call last)",
      "\u001b[1;32m~\\AppData\\Local\\Temp\\ipykernel_17980\\2244043574.py\u001b[0m in \u001b[0;36m?\u001b[1;34m()\u001b[0m\n\u001b[0;32m     15\u001b[0m \u001b[1;31m# Print the bins before sorting to debug\u001b[0m\u001b[1;33m\u001b[0m\u001b[1;33m\u001b[0m\u001b[0m\n\u001b[0;32m     16\u001b[0m \u001b[0mprint\u001b[0m\u001b[1;33m(\u001b[0m\u001b[1;34m\"Bins before sorting:\"\u001b[0m\u001b[1;33m,\u001b[0m \u001b[0mbins\u001b[0m\u001b[1;33m)\u001b[0m\u001b[1;33m\u001b[0m\u001b[1;33m\u001b[0m\u001b[0m\n\u001b[0;32m     17\u001b[0m \u001b[1;33m\u001b[0m\u001b[0m\n\u001b[0;32m     18\u001b[0m \u001b[1;31m# Ensure that the bins are sorted in ascending order\u001b[0m\u001b[1;33m\u001b[0m\u001b[1;33m\u001b[0m\u001b[0m\n\u001b[1;32m---> 19\u001b[1;33m \u001b[0mbins\u001b[0m \u001b[1;33m=\u001b[0m \u001b[0msorted\u001b[0m\u001b[1;33m(\u001b[0m\u001b[0mbins\u001b[0m\u001b[1;33m)\u001b[0m\u001b[1;33m\u001b[0m\u001b[1;33m\u001b[0m\u001b[0m\n\u001b[0m\u001b[0;32m     20\u001b[0m \u001b[1;33m\u001b[0m\u001b[0m\n\u001b[0;32m     21\u001b[0m \u001b[1;31m# Print the bins after sorting to debug\u001b[0m\u001b[1;33m\u001b[0m\u001b[1;33m\u001b[0m\u001b[0m\n\u001b[0;32m     22\u001b[0m \u001b[0mprint\u001b[0m\u001b[1;33m(\u001b[0m\u001b[1;34m\"Bins after sorting:\"\u001b[0m\u001b[1;33m,\u001b[0m \u001b[0mbins\u001b[0m\u001b[1;33m)\u001b[0m\u001b[1;33m\u001b[0m\u001b[1;33m\u001b[0m\u001b[0m\n",
      "\u001b[1;32m~\\anaconda3\\Lib\\site-packages\\pandas\\core\\generic.py\u001b[0m in \u001b[0;36m?\u001b[1;34m(self)\u001b[0m\n\u001b[0;32m   1517\u001b[0m     \u001b[1;33m@\u001b[0m\u001b[0mfinal\u001b[0m\u001b[1;33m\u001b[0m\u001b[1;33m\u001b[0m\u001b[0m\n\u001b[0;32m   1518\u001b[0m     \u001b[1;32mdef\u001b[0m \u001b[0m__nonzero__\u001b[0m\u001b[1;33m(\u001b[0m\u001b[0mself\u001b[0m\u001b[1;33m)\u001b[0m \u001b[1;33m->\u001b[0m \u001b[0mNoReturn\u001b[0m\u001b[1;33m:\u001b[0m\u001b[1;33m\u001b[0m\u001b[1;33m\u001b[0m\u001b[0m\n\u001b[1;32m-> 1519\u001b[1;33m         raise ValueError(\n\u001b[0m\u001b[0;32m   1520\u001b[0m             \u001b[1;34mf\"The truth value of a {type(self).__name__} is ambiguous. \"\u001b[0m\u001b[1;33m\u001b[0m\u001b[1;33m\u001b[0m\u001b[0m\n\u001b[0;32m   1521\u001b[0m             \u001b[1;34m\"Use a.empty, a.bool(), a.item(), a.any() or a.all().\"\u001b[0m\u001b[1;33m\u001b[0m\u001b[1;33m\u001b[0m\u001b[0m\n\u001b[0;32m   1522\u001b[0m         )\n",
      "\u001b[1;31mValueError\u001b[0m: The truth value of a Series is ambiguous. Use a.empty, a.bool(), a.item(), a.any() or a.all()."
     ]
    }
   ],
   "source": [
    "import pandas as pd\n",
    "from sklearn.naive_bayes import GaussianNB\n",
    "from sklearn.metrics import accuracy_score\n",
    "\n",
    "# Load your datasets (replace with actual file paths)\n",
    "df1 = pd.read_csv('data.csv')\n",
    "df2 = pd.read_csv('missing_value.csv')\n",
    "\n",
    "# Convert continuous data into categorical by discretizing into bins\n",
    "# You may need to adjust the number of bins and their widths based on your data\n",
    "num_bins = 10\n",
    "bin_width = (df1.max() - df1.min()) / num_bins\n",
    "bins = [df1.min() + i * bin_width for i in range(num_bins + 1)]\n",
    "\n",
    "# Print the bins before sorting to debug\n",
    "print(\"Bins before sorting:\", bins)\n",
    "\n",
    "# Ensure that the bins are sorted in ascending order\n",
    "bins = sorted(bins)\n",
    "\n",
    "# Print the bins after sorting to debug\n",
    "print(\"Bins after sorting:\", bins)\n",
    "\n",
    "# Discretize the data\n",
    "df1_discretized = pd.DataFrame()\n",
    "df2_discretized = pd.DataFrame()\n",
    "\n",
    "for col in df1.columns:\n",
    "    df1_discretized[col] = pd.cut(df1[col], bins=bins, labels=[i for i in range(num_bins)])\n",
    "    df2_discretized[col] = pd.cut(df2[col], bins=bins, labels=[i for i in range(num_bins)])\n",
    "\n",
    "# Create a Naive Bayes classifier\n",
    "classifier = GaussianNB()\n",
    "\n",
    "# Impute missing values using Naive Bayes\n",
    "for col in df2_discretized.columns:\n",
    "    missing_indices = df2_discretized[col].isnull()\n",
    "    if missing_indices.any():\n",
    "        # Fit the classifier on complete data\n",
    "        classifier.fit(df1_discretized[~missing_indices], df2_discretized[col][~missing_indices])\n",
    "        # Predict missing values\n",
    "        df2_discretized[col][missing_indices] = classifier.predict(df1_discretized[missing_indices])\n",
    "\n",
    "# Evaluate performance using accuracy (optional for imputation)\n",
    "# Here, we are comparing the imputed values with the original missing values\n",
    "accuracy = accuracy_score(df2_discretized[df2.isnull()].values.flatten(), df2[df2.isnull()].values.flatten())\n",
    "\n",
    "# Print the imputed dataframe\n",
    "print(\"Imputed DataFrame (df2_imputed):\")\n",
    "print(df2_discretized)\n",
    "\n",
    "# Print accuracy (optional for imputation)\n",
    "print(\"Accuracy:\", accuracy)\n",
    "\n"
   ]
  },
  {
   "cell_type": "code",
   "execution_count": null,
   "id": "b19486b0-c911-4fa6-8800-b5370c30c365",
   "metadata": {},
   "outputs": [],
   "source": []
  }
 ],
 "metadata": {
  "kernelspec": {
   "display_name": "Python 3 (ipykernel)",
   "language": "python",
   "name": "python3"
  },
  "language_info": {
   "codemirror_mode": {
    "name": "ipython",
    "version": 3
   },
   "file_extension": ".py",
   "mimetype": "text/x-python",
   "name": "python",
   "nbconvert_exporter": "python",
   "pygments_lexer": "ipython3",
   "version": "3.11.5"
  }
 },
 "nbformat": 4,
 "nbformat_minor": 5
}
